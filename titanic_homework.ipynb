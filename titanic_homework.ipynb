{
 "cells": [
  {
   "cell_type": "markdown",
   "id": "90922f20-c5b2-4bbe-b881-0bd5fd234c66",
   "metadata": {},
   "source": [
    "# 🛳️ Titanic Dataset Analysis with Pandas\n",
    "\n",
    "This notebook includes analysis of the Titanic dataset using pandas.\n",
    "\n",
    "We will answer the following questions using the dataset:\n",
    "\n",
    "1. Average age of people who died\n",
    "2. Average and median fare of people who died\n",
    "3. Average age of males who died\n",
    "4. Average age of females who died\n",
    "5. Average age of survivors\n",
    "6. Average fare of survivors\n",
    "7. Total number of survivors\n",
    "8. Median fare of children under 10\n",
    "9. Comparison of average and median fare by passenger class\n",
    "10. Comparison of death rates between males and females"
   ]
  },
  {
   "cell_type": "code",
   "execution_count": 1,
   "id": "1a5b2fcc-4210-4fca-b0ba-d519fd5afe09",
   "metadata": {},
   "outputs": [],
   "source": [
    "import seaborn as sns\n",
    "import matplotlib.pyplot as plt\n",
    "import pandas as pd\n",
    "import numpy as np\n",
    "import warnings\n",
    "warnings.filterwarnings(\"ignore\")\n"
   ]
  },
  {
   "cell_type": "code",
   "execution_count": 2,
   "id": "e7f36c5c-d9bf-4fd8-8e36-87f8c852a15c",
   "metadata": {},
   "outputs": [
    {
     "data": {
      "text/html": [
       "<div>\n",
       "<style scoped>\n",
       "    .dataframe tbody tr th:only-of-type {\n",
       "        vertical-align: middle;\n",
       "    }\n",
       "\n",
       "    .dataframe tbody tr th {\n",
       "        vertical-align: top;\n",
       "    }\n",
       "\n",
       "    .dataframe thead th {\n",
       "        text-align: right;\n",
       "    }\n",
       "</style>\n",
       "<table border=\"1\" class=\"dataframe\">\n",
       "  <thead>\n",
       "    <tr style=\"text-align: right;\">\n",
       "      <th></th>\n",
       "      <th>PassengerId</th>\n",
       "      <th>Survived</th>\n",
       "      <th>Pclass</th>\n",
       "      <th>Name</th>\n",
       "      <th>Sex</th>\n",
       "      <th>Age</th>\n",
       "      <th>SibSp</th>\n",
       "      <th>Parch</th>\n",
       "      <th>Ticket</th>\n",
       "      <th>Fare</th>\n",
       "      <th>Cabin</th>\n",
       "      <th>Embarked</th>\n",
       "    </tr>\n",
       "  </thead>\n",
       "  <tbody>\n",
       "    <tr>\n",
       "      <th>0</th>\n",
       "      <td>1</td>\n",
       "      <td>0</td>\n",
       "      <td>3</td>\n",
       "      <td>Braund, Mr. Owen Harris</td>\n",
       "      <td>male</td>\n",
       "      <td>22.0</td>\n",
       "      <td>1</td>\n",
       "      <td>0</td>\n",
       "      <td>A/5 21171</td>\n",
       "      <td>7.2500</td>\n",
       "      <td>NaN</td>\n",
       "      <td>S</td>\n",
       "    </tr>\n",
       "    <tr>\n",
       "      <th>1</th>\n",
       "      <td>2</td>\n",
       "      <td>1</td>\n",
       "      <td>1</td>\n",
       "      <td>Cumings, Mrs. John Bradley (Florence Briggs Th...</td>\n",
       "      <td>female</td>\n",
       "      <td>38.0</td>\n",
       "      <td>1</td>\n",
       "      <td>0</td>\n",
       "      <td>PC 17599</td>\n",
       "      <td>71.2833</td>\n",
       "      <td>C85</td>\n",
       "      <td>C</td>\n",
       "    </tr>\n",
       "    <tr>\n",
       "      <th>2</th>\n",
       "      <td>3</td>\n",
       "      <td>1</td>\n",
       "      <td>3</td>\n",
       "      <td>Heikkinen, Miss. Laina</td>\n",
       "      <td>female</td>\n",
       "      <td>26.0</td>\n",
       "      <td>0</td>\n",
       "      <td>0</td>\n",
       "      <td>STON/O2. 3101282</td>\n",
       "      <td>7.9250</td>\n",
       "      <td>NaN</td>\n",
       "      <td>S</td>\n",
       "    </tr>\n",
       "    <tr>\n",
       "      <th>3</th>\n",
       "      <td>4</td>\n",
       "      <td>1</td>\n",
       "      <td>1</td>\n",
       "      <td>Futrelle, Mrs. Jacques Heath (Lily May Peel)</td>\n",
       "      <td>female</td>\n",
       "      <td>35.0</td>\n",
       "      <td>1</td>\n",
       "      <td>0</td>\n",
       "      <td>113803</td>\n",
       "      <td>53.1000</td>\n",
       "      <td>C123</td>\n",
       "      <td>S</td>\n",
       "    </tr>\n",
       "    <tr>\n",
       "      <th>4</th>\n",
       "      <td>5</td>\n",
       "      <td>0</td>\n",
       "      <td>3</td>\n",
       "      <td>Allen, Mr. William Henry</td>\n",
       "      <td>male</td>\n",
       "      <td>35.0</td>\n",
       "      <td>0</td>\n",
       "      <td>0</td>\n",
       "      <td>373450</td>\n",
       "      <td>8.0500</td>\n",
       "      <td>NaN</td>\n",
       "      <td>S</td>\n",
       "    </tr>\n",
       "  </tbody>\n",
       "</table>\n",
       "</div>"
      ],
      "text/plain": [
       "   PassengerId  Survived  Pclass  \\\n",
       "0            1         0       3   \n",
       "1            2         1       1   \n",
       "2            3         1       3   \n",
       "3            4         1       1   \n",
       "4            5         0       3   \n",
       "\n",
       "                                                Name     Sex   Age  SibSp  \\\n",
       "0                            Braund, Mr. Owen Harris    male  22.0      1   \n",
       "1  Cumings, Mrs. John Bradley (Florence Briggs Th...  female  38.0      1   \n",
       "2                             Heikkinen, Miss. Laina  female  26.0      0   \n",
       "3       Futrelle, Mrs. Jacques Heath (Lily May Peel)  female  35.0      1   \n",
       "4                           Allen, Mr. William Henry    male  35.0      0   \n",
       "\n",
       "   Parch            Ticket     Fare Cabin Embarked  \n",
       "0      0         A/5 21171   7.2500   NaN        S  \n",
       "1      0          PC 17599  71.2833   C85        C  \n",
       "2      0  STON/O2. 3101282   7.9250   NaN        S  \n",
       "3      0            113803  53.1000  C123        S  \n",
       "4      0            373450   8.0500   NaN        S  "
      ]
     },
     "execution_count": 2,
     "metadata": {},
     "output_type": "execute_result"
    }
   ],
   "source": [
    "import pandas as pd\n",
    "\n",
    "# Load the dataset (adjust path if needed)\n",
    "df = pd.read_csv(\"/Users/sumrubektas/Desktop/titanic.csv\")\n",
    "\n",
    "# Check the first few rows\n",
    "df.head()\n"
   ]
  },
  {
   "cell_type": "markdown",
   "id": "1b94e144-c64e-48f0-b6bc-b440a3472663",
   "metadata": {},
   "source": [
    "## 1. Average age of people who died\n"
   ]
  },
  {
   "cell_type": "code",
   "execution_count": 3,
   "id": "eb36988b-2371-44d8-b693-ca8d98eecdd7",
   "metadata": {},
   "outputs": [
    {
     "name": "stdout",
     "output_type": "stream",
     "text": [
      "Average age of passengers who died: 30.62617924528302\n"
     ]
    }
   ],
   "source": [
    "# Create a mask to select passengers who died (Survived == 0)\n",
    "died_mask = df[\"Survived\"] == 0\n",
    "\n",
    "# Select only passengers who died\n",
    "df_died = df[died_mask]\n",
    "\n",
    "# Calculate the average age of those passengers\n",
    "average_age_died = df_died[\"Age\"].mean()\n",
    "\n",
    "print(\"Average age of passengers who died:\", average_age_died)\n"
   ]
  },
  {
   "cell_type": "markdown",
   "id": "c4d6b495-f0a4-4836-b574-da5bd6cfae60",
   "metadata": {},
   "source": [
    "## 2. Average and median fare of people who died\n"
   ]
  },
  {
   "cell_type": "code",
   "execution_count": 4,
   "id": "094e5c81-ac31-45e4-a936-11080810be48",
   "metadata": {},
   "outputs": [
    {
     "name": "stdout",
     "output_type": "stream",
     "text": [
      "Average ticket fare of passengers who died: 22.117886885245902\n",
      "Median ticket fare of passengers who died: 10.5\n"
     ]
    }
   ],
   "source": [
    "# Calculate average ticket fare for passengers who died\n",
    "average_fare_died = df_died[\"Fare\"].mean()\n",
    "\n",
    "# Calculate median ticket fare for passengers who died\n",
    "median_fare_died = df_died[\"Fare\"].median()\n",
    "\n",
    "print(\"Average ticket fare of passengers who died:\", average_fare_died)\n",
    "print(\"Median ticket fare of passengers who died:\", median_fare_died)\n"
   ]
  },
  {
   "cell_type": "markdown",
   "id": "8f29ef80-35f8-4fb3-9355-36ed08b2b438",
   "metadata": {},
   "source": [
    "## 3. Average age of males who died\n"
   ]
  },
  {
   "cell_type": "code",
   "execution_count": 6,
   "id": "ba29741f-63be-4525-a14d-ecabafe9af2c",
   "metadata": {},
   "outputs": [
    {
     "name": "stdout",
     "output_type": "stream",
     "text": [
      "Average age of males who died: 31.618055555555557\n"
     ]
    }
   ],
   "source": [
    "# Mask for males who died\n",
    "died_male_mask = (df[\"Survived\"] == 0) & (df[\"Sex\"] == \"male\")\n",
    "\n",
    "# Select male passengers who died\n",
    "df_died_male = df[died_male_mask]\n",
    "\n",
    "# Calculate average age\n",
    "average_age_died_male = df_died_male[\"Age\"].mean()\n",
    "\n",
    "print(\"Average age of males who died:\", average_age_died_male)\n"
   ]
  },
  {
   "cell_type": "markdown",
   "id": "8ceebe05-67e3-4cb9-8667-b1a5293e9c62",
   "metadata": {},
   "source": [
    "## 4. Average age of females who died"
   ]
  },
  {
   "cell_type": "code",
   "execution_count": 7,
   "id": "6598dd5a-443e-4106-9648-9510808ba5fc",
   "metadata": {},
   "outputs": [
    {
     "name": "stdout",
     "output_type": "stream",
     "text": [
      "Average age of females who died: 25.046875\n"
     ]
    }
   ],
   "source": [
    "# Mask for females who died\n",
    "died_female_mask = (df[\"Survived\"] == 0) & (df[\"Sex\"] == \"female\")\n",
    "\n",
    "# Select female passengers who died\n",
    "df_died_female = df[died_female_mask]\n",
    "\n",
    "# Calculate average age\n",
    "average_age_died_female = df_died_female[\"Age\"].mean()\n",
    "\n",
    "print(\"Average age of females who died:\", average_age_died_female)\n"
   ]
  },
  {
   "cell_type": "markdown",
   "id": "ae01f8bc-47f3-447c-8caa-2260dab07e34",
   "metadata": {},
   "source": [
    "## 5. Average age of survivors\n"
   ]
  },
  {
   "cell_type": "code",
   "execution_count": 8,
   "id": "4eeb8f3e-96aa-44f0-bfa2-30bde7500793",
   "metadata": {},
   "outputs": [
    {
     "name": "stdout",
     "output_type": "stream",
     "text": [
      "Average age of passengers who survived: 28.343689655172415\n"
     ]
    }
   ],
   "source": [
    "# Mask for survivors\n",
    "survived_mask = df[\"Survived\"] == 1\n",
    "\n",
    "# Select passengers who survived\n",
    "df_survived = df[survived_mask]\n",
    "\n",
    "# Calculate average age\n",
    "average_age_survived = df_survived[\"Age\"].mean()\n",
    "\n",
    "print(\"Average age of passengers who survived:\", average_age_survived)\n"
   ]
  },
  {
   "cell_type": "markdown",
   "id": "bfafe445-16d1-418d-9c6b-eb72eb43ad72",
   "metadata": {},
   "source": [
    "## 6. Average fare of survivors\n"
   ]
  },
  {
   "cell_type": "code",
   "execution_count": 9,
   "id": "d9e13ec8-c5b4-436d-9b0e-7127deda8852",
   "metadata": {},
   "outputs": [
    {
     "name": "stdout",
     "output_type": "stream",
     "text": [
      "Average ticket fare of passengers who survived: 48.39540760233918\n"
     ]
    }
   ],
   "source": [
    "# Calculate average fare of survivors\n",
    "average_fare_survived = df_survived[\"Fare\"].mean()\n",
    "\n",
    "print(\"Average ticket fare of passengers who survived:\", average_fare_survived)\n"
   ]
  },
  {
   "cell_type": "markdown",
   "id": "ca237c5f-d0da-4d7f-bb1f-a818d0242b8d",
   "metadata": {},
   "source": [
    "## 7. Total number of survivors\n"
   ]
  },
  {
   "cell_type": "code",
   "execution_count": 10,
   "id": "7f082ef1-12fa-46df-ab1e-1cc1ab99b361",
   "metadata": {},
   "outputs": [
    {
     "name": "stdout",
     "output_type": "stream",
     "text": [
      "Total number of survivors: 342\n"
     ]
    }
   ],
   "source": [
    "# Use len() with condition directly to count survivors\n",
    "total_survivors = len(df[df[\"Survived\"] == 1])\n",
    "\n",
    "print(\"Total number of survivors:\", total_survivors)\n"
   ]
  },
  {
   "cell_type": "markdown",
   "id": "0fbddc43-4dd0-416c-8087-bdee8c06ff42",
   "metadata": {},
   "source": [
    "## 8. Median fare of children under 10 years old\n"
   ]
  },
  {
   "cell_type": "code",
   "execution_count": 11,
   "id": "625a0593-3dd6-4193-9305-724c79f3e9e0",
   "metadata": {},
   "outputs": [
    {
     "name": "stdout",
     "output_type": "stream",
     "text": [
      "Median ticket fare of passengers younger than 10: 27.0\n"
     ]
    }
   ],
   "source": [
    "# Mask for passengers younger than 10\n",
    "young_mask = df[\"Age\"] < 10\n",
    "\n",
    "# Select those passengers\n",
    "df_young = df[young_mask]\n",
    "\n",
    "# Calculate median fare\n",
    "median_fare_young = df_young[\"Fare\"].median()\n",
    "\n",
    "print(\"Median ticket fare of passengers younger than 10:\", median_fare_young)\n"
   ]
  },
  {
   "cell_type": "markdown",
   "id": "a2b6d78e-3ab4-4391-83a2-4ff28ba6c91c",
   "metadata": {},
   "source": [
    "## 9. Compare average and median fare by passenger class (Pclass)\n"
   ]
  },
  {
   "cell_type": "code",
   "execution_count": 12,
   "id": "568785b3-dc22-46ef-89c4-457463bfe4a2",
   "metadata": {},
   "outputs": [
    {
     "name": "stdout",
     "output_type": "stream",
     "text": [
      "Pclass 1: Average fare = 84.15, Median fare = 60.29\n",
      "Pclass 2: Average fare = 20.66, Median fare = 14.25\n",
      "Pclass 3: Average fare = 13.68, Median fare = 8.05\n"
     ]
    }
   ],
   "source": [
    "for pclass in [1, 2, 3]:\n",
    "    df_class = df[df[\"Pclass\"] == pclass]\n",
    "    avg_fare = df_class[\"Fare\"].mean()\n",
    "    med_fare = df_class[\"Fare\"].median()\n",
    "    print(f\"Pclass {pclass}: Average fare = {avg_fare:.2f}, Median fare = {med_fare:.2f}\")\n"
   ]
  },
  {
   "cell_type": "markdown",
   "id": "958a7f65-76bb-427d-b1a4-e2049b9641e7",
   "metadata": {},
   "source": [
    "## 10. Compare death ratio of males and females\n"
   ]
  },
  {
   "cell_type": "code",
   "execution_count": 14,
   "id": "1391e04a-2e87-4f77-a012-2093fee7eb37",
   "metadata": {},
   "outputs": [
    {
     "name": "stdout",
     "output_type": "stream",
     "text": [
      "Death rate of males: 81.11%\n",
      "Death rate of females: 25.80%\n"
     ]
    }
   ],
   "source": [
    "# Total males and females\n",
    "total_males = len(df[df[\"Sex\"] == \"male\"])\n",
    "total_females = len(df[df[\"Sex\"] == \"female\"])\n",
    "\n",
    "# Dead males and females\n",
    "dead_males = len(df[(df[\"Sex\"] == \"male\") & (df[\"Survived\"] == 0)])\n",
    "dead_females = len(df[(df[\"Sex\"] == \"female\") & (df[\"Survived\"] == 0)])\n",
    "\n",
    "# Calculate death rates\n",
    "death_rate_males = dead_males / total_males\n",
    "death_rate_females = dead_females / total_females\n",
    "\n",
    "print(f\"Death rate of males: {death_rate_males:.2%}\")\n",
    "print(f\"Death rate of females: {death_rate_females:.2%}\")\n"
   ]
  },
  {
   "cell_type": "markdown",
   "id": "efa42084-1678-4452-a82c-15c862005f88",
   "metadata": {},
   "source": [
    "Summary\n",
    "This project demonstrates how to use pandas to:\n",
    "\n",
    "Filter data using conditions (Boolean masks)\n",
    "\n",
    "Calculate averages and medians\n",
    "\n",
    "Compare groups using filters\n",
    "\n",
    "Count values with len()\n",
    "\n"
   ]
  },
  {
   "cell_type": "code",
   "execution_count": null,
   "id": "507952cd-79a0-4f87-b3ae-f733b5b08fe7",
   "metadata": {},
   "outputs": [],
   "source": []
  }
 ],
 "metadata": {
  "kernelspec": {
   "display_name": "Python [conda env:base] *",
   "language": "python",
   "name": "conda-base-py"
  },
  "language_info": {
   "codemirror_mode": {
    "name": "ipython",
    "version": 3
   },
   "file_extension": ".py",
   "mimetype": "text/x-python",
   "name": "python",
   "nbconvert_exporter": "python",
   "pygments_lexer": "ipython3",
   "version": "3.12.7"
  }
 },
 "nbformat": 4,
 "nbformat_minor": 5
}
